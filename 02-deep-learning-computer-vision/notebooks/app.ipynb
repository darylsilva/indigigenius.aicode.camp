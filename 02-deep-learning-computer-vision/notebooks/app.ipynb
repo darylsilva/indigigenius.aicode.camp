{
 "cells": [
  {
   "cell_type": "code",
   "execution_count": null,
   "id": "700266f5-07b7-4780-9830-7a6a0aa0b5d4",
   "metadata": {},
   "outputs": [],
   "source": [
    "#|default_exp app"
   ]
  },
  {
   "cell_type": "markdown",
   "id": "fb687bf5-ec9f-4e84-9e04-4e80b7d9515b",
   "metadata": {},
   "source": [
    "## About this notebook"
   ]
  },
  {
   "cell_type": "markdown",
   "id": "9172d4d2-67a3-4fff-8f65-934db3612733",
   "metadata": {},
   "source": [
    "We will use this notebook to create a gradio app that will use a computer vision model. Testing here let's us interact with the code, which we will then be able to export to a *script* from this *notebook*.\n",
    "\n",
    "Some things to keep in mind:\n",
    " - The model this app will use will be a `.pkl` file. `.pkl` files require that whatever functions you used in the training of your app to be included in this notebook. Use the cell below to add in any functions from your training notebook. If you used the `00-computer-vision-trainer.ipynb` trainer, you should be fine to simply import your `.pkl` model file.\n",
    "\n",
    "Our first step is to import fastai vision and gradio."
   ]
  },
  {
   "cell_type": "code",
   "execution_count": null,
   "id": "9395271e-f71f-4781-9971-015cffb38205",
   "metadata": {},
   "outputs": [],
   "source": [
    "#|export\n",
    "from fastai.vision.all import *\n",
    "import gradio as gr\n",
    "path_to_pkl_model = '/workspace/models/model_epoch10.pkl'"
   ]
  },
  {
   "cell_type": "markdown",
   "id": "6b23fc0a-a0a5-4af6-ad83-c030ecb361ac",
   "metadata": {},
   "source": [
    "Load the learner from our model and data."
   ]
  },
  {
   "cell_type": "code",
   "execution_count": null,
   "id": "426c3bd7-4d09-4c61-ab6b-e2a109398912",
   "metadata": {},
   "outputs": [],
   "source": [
    "#|export\n",
    "learn = load_learner(path_to_pkl_model)"
   ]
  },
  {
   "cell_type": "markdown",
   "id": "0a257861-5d96-4146-b578-fd0092cbf9cf",
   "metadata": {},
   "source": [
    "Then test the model using an image that is not in the data."
   ]
  },
  {
   "cell_type": "code",
   "execution_count": null,
   "id": "9c65a09e-beeb-4252-af86-6d14d353f280",
   "metadata": {
    "scrolled": true
   },
   "outputs": [],
   "source": [
    "im = PILImage.create('/workspace/images/TEST_IMAGES/yarrow.jpg')\n",
    "im.thumbnail((192,192))\n",
    "im"
   ]
  },
  {
   "cell_type": "code",
   "execution_count": null,
   "id": "18a6bcb3-4d31-4ed5-8352-746b741fbf66",
   "metadata": {},
   "outputs": [],
   "source": [
    "learn.predict(im)"
   ]
  },
  {
   "cell_type": "markdown",
   "id": "ac705cc0",
   "metadata": {},
   "source": [
    "Now grab the labels from the model that was trained and define a function called `classify_image` that will be used in our "
   ]
  },
  {
   "cell_type": "code",
   "execution_count": null,
   "id": "44f3f112-11ad-4150-8135-f65358ebf96a",
   "metadata": {},
   "outputs": [],
   "source": [
    "#|export\n",
    "categories = learn.dls.vocab # learn.dls.vocab provides the categories from our trained model\n",
    "\n",
    "def classify_image(img):\n",
    "    img = PILImage.create(img).resize((192, 192))\n",
    "    pred,idx,probs = learn.predict(img)\n",
    "    return dict(zip(categories, map(float,probs)))"
   ]
  },
  {
   "cell_type": "code",
   "execution_count": null,
   "id": "5a06cb35-af13-4ac3-9fb9-2fa560379058",
   "metadata": {
    "scrolled": true
   },
   "outputs": [],
   "source": [
    "classify_image(im)"
   ]
  },
  {
   "cell_type": "markdown",
   "id": "badae6ec-37d1-4822-914d-8ad97f82653e",
   "metadata": {},
   "source": [
    "The ports for local testing complicate things, so test it through uploading to gradio."
   ]
  },
  {
   "cell_type": "code",
   "execution_count": null,
   "id": "667c537e-ea92-4132-bee7-6764e35163ee",
   "metadata": {},
   "outputs": [],
   "source": [
    "#|export\n",
    "image = gr.Image()\n",
    "label = gr.Label()\n",
    "\n",
    "intf = gr.Interface(fn=classify_image, inputs=image, outputs=label)\n",
    "intf.launch(inline=False)"
   ]
  },
  {
   "cell_type": "code",
   "execution_count": null,
   "id": "d5960120-84d5-434c-a10b-97e169ea634d",
   "metadata": {},
   "outputs": [],
   "source": [
    "from nbdev.export import nb_export\n",
    "\n",
    "# export the this notebook to a script in cells where #|export is the first line\n",
    "nb_export('app.ipynb','./scripts/')"
   ]
  },
  {
   "cell_type": "code",
   "execution_count": null,
   "id": "7d0cd711-4394-4f9d-bf0a-1bae60ce483a",
   "metadata": {},
   "outputs": [],
   "source": []
  }
 ],
 "metadata": {
  "kernelspec": {
   "display_name": "Python 3 (ipykernel)",
   "language": "python",
   "name": "python3"
  },
  "language_info": {
   "codemirror_mode": {
    "name": "ipython",
    "version": 3
   },
   "file_extension": ".py",
   "mimetype": "text/x-python",
   "name": "python",
   "nbconvert_exporter": "python",
   "pygments_lexer": "ipython3",
   "version": "3.8.10"
  }
 },
 "nbformat": 4,
 "nbformat_minor": 5
}
