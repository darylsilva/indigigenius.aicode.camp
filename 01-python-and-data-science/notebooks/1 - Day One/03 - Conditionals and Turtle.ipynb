{
 "cells": [
  {
   "cell_type": "markdown",
   "metadata": {},
   "source": [
    "# Booleans and Conditionals\n",
    "\n",
    "This lesson was remixed from the lessons at: https://github.com/dlab-berkeley/Python-Fundamentals under the `Creative Commons Attribution-NonCommercial 4.0 International Public License` License\n",
    "\n",
    "**Learning Objectives**:\n",
    "\n",
    "- Introduce the **Boolean** type.\n",
    "- Define and understand conditional statements.\n",
    "- Understand the use of `if`, `else`, and `elif`.\n",
    "- Use a conditional inside of a loop.\n",
    "* * * * *"
   ]
  },
  {
   "cell_type": "markdown",
   "metadata": {},
   "source": [
    "## The Boolean Data Type\n",
    "\n",
    "**Booleans** are a fundamental data type in programming. Booleans are varibles that are **binary**: they can either be `True` or `False`.\n",
    "\n",
    "Why do we use these? They're very useful for **control flow**: changing the course of a program depending on certain conditions. For example, we might make different decisions on what computation to perform based on the current state of the data, user preferences, etc. Booleans allow decision making in these contexts.\n",
    "\n",
    "In Python, `True` and `False` are written with capital letters, and usually colored green in Jupyter notebooks:"
   ]
  },
  {
   "cell_type": "code",
   "execution_count": 1,
   "metadata": {},
   "outputs": [],
   "source": [
    "yes = True\n",
    "no = False"
   ]
  },
  {
   "cell_type": "markdown",
   "metadata": {},
   "source": [
    "Booleans are commonly seen in the results of inequalities. Predict the outcome of the inequalities printed below, then run the code.\n",
    "\n",
    "**Note:** Equality is signaled in Python (and many other languages) by the double equals sign `==`. This is distinct from the **assignment operator** (single equals sign `=`) used in variable assignment (e.g. `year = 1996`)"
   ]
  },
  {
   "cell_type": "code",
   "execution_count": 3,
   "metadata": {},
   "outputs": [
    {
     "name": "stdout",
     "output_type": "stream",
     "text": [
      "Is 3 > 5? False\n",
      "Is 3 < 5? True\n",
      "Is ice == ice? True\n"
     ]
    }
   ],
   "source": [
    "# Greater than \n",
    "print(\"Is 3 > 5?\", 3 > 5)\n",
    "\n",
    "# Less than\n",
    "print(\"Is 3 < 5?\", 3 < 5)\n",
    "\n",
    "# Exactly equal to\n",
    "print(\"Is ice == ice?\", 'ice' == 'ice')"
   ]
  },
  {
   "cell_type": "markdown",
   "metadata": {},
   "source": [
    "You can also specify *not* using the `!` operator:"
   ]
  },
  {
   "cell_type": "code",
   "execution_count": 5,
   "metadata": {},
   "outputs": [
    {
     "name": "stdout",
     "output_type": "stream",
     "text": [
      "Is ice != water? True\n"
     ]
    }
   ],
   "source": [
    "print(\"Is ice != water?\", 'ice' != 'water') #True"
   ]
  },
  {
   "cell_type": "markdown",
   "metadata": {},
   "source": [
    "Furthermore, you can *negate* a Boolean expression with the keyword `not`. Predit the outcomes for the examples below:\n",
    "\n",
    "**Hint:** Recall `yes=True` and `no=False`."
   ]
  },
  {
   "cell_type": "code",
   "execution_count": 9,
   "metadata": {},
   "outputs": [
    {
     "name": "stdout",
     "output_type": "stream",
     "text": [
      "True\n",
      "False\n"
     ]
    }
   ],
   "source": [
    "print(yes) #True\n",
    "print(not yes) #False (not yes)"
   ]
  },
  {
   "cell_type": "markdown",
   "metadata": {},
   "source": [
    "**Note**: Comparisons for strings are based on alphanumeric order: numbers first, then capital letters, followed by lowercase letters."
   ]
  },
  {
   "cell_type": "markdown",
   "metadata": {},
   "source": [
    "The operators `and` and `or` can also be used to compare Boolean values with logic. What do each of the following statements do?"
   ]
  },
  {
   "cell_type": "code",
   "execution_count": null,
   "metadata": {},
   "outputs": [],
   "source": [
    "#and can be thought of as multiplication \n",
    "#or can be thought of as addition"
   ]
  },
  {
   "cell_type": "code",
   "execution_count": 11,
   "metadata": {},
   "outputs": [
    {
     "name": "stdout",
     "output_type": "stream",
     "text": [
      "False\n",
      "True\n"
     ]
    }
   ],
   "source": [
    "a = True\n",
    "b = False\n",
    "\n",
    "print(a and b) #True and False\n",
    "\n",
    "print(a or b) #True or False"
   ]
  },
  {
   "cell_type": "markdown",
   "metadata": {},
   "source": [
    "Notice that when you are combining Boolean expressions, parentheses are used to indicate order of evaluation. The innermost parentheses are evaluated first, then the later ones. For example, compare the two lines below. \n",
    "\n",
    "**Question:** Why are the outputs different? Write the order of evaluation for each line below.\n"
   ]
  },
  {
   "cell_type": "code",
   "execution_count": 15,
   "metadata": {},
   "outputs": [
    {
     "name": "stdout",
     "output_type": "stream",
     "text": [
      "True\n",
      "False\n"
     ]
    }
   ],
   "source": [
    "print(not (a and b)) #True and = False\n",
    "\n",
    "print(not a and b) # not False and False"
   ]
  },
  {
   "cell_type": "markdown",
   "metadata": {},
   "source": [
    "## Challenge 1: Boolean Errors\n",
    "\n",
    "1) The following cell gives error(s). Identify each error and how to fix it. \n",
    "\n",
    "2) What is the output of the cell?"
   ]
  },
  {
   "cell_type": "code",
   "execution_count": 21,
   "metadata": {},
   "outputs": [
    {
     "name": "stdout",
     "output_type": "stream",
     "text": [
      "False\n"
     ]
    }
   ],
   "source": [
    "number_of_trees = 14\n",
    "number_of_shrubs = 8\n",
    "has_flowers = True\n",
    "\n",
    "print((number_of_trees > 14) and (number_of_trees == number_of_shrubs) or not (has_flowers))\n",
    "\n",
    "#number of tress > 14 leads to 14 > 14 == 8 8 leads to False\n",
    "# 0 * 0 + 0\n"
   ]
  },
  {
   "cell_type": "markdown",
   "metadata": {},
   "source": [
    "## Conditionals: If-Statements\n",
    "\n",
    "A fundamental structure in programming is the **conditional**. These blocks allow different blocks of code to run, *conditional* on specific things being true.\n",
    "\n",
    "The most widely used conditional is the **if-statement**. An if-statement controls whether some block of code is executed or not. Its structure is similar to that of a for loop: \n",
    "\n",
    "*   The first line opens with the `if` keyword and contains a Boolean variable or expression. It ends with a colon. If the expression evaluates to `True`, the block of code will run.\n",
    "*   The body, containing whatever code to execute if the condition is met, is indented.\n",
    "\n",
    "So, if the Boolean expression is `True`, the body of an if-statement is run. If not, it's skipped. Let's look at an example:"
   ]
  },
  {
   "cell_type": "code",
   "execution_count": 23,
   "metadata": {},
   "outputs": [
    {
     "name": "stdout",
     "output_type": "stream",
     "text": [
      "105 is greater than 100.\n"
     ]
    }
   ],
   "source": [
    "number = 105\n",
    "\n",
    "# Body is executed\n",
    "if number > 100:\n",
    "    print(number, 'is greater than 100.')\n",
    "\n",
    "# Body is not executed\n",
    "if number > 110:\n",
    "    print(number, 'is greater than 110.')\n",
    "    "
   ]
  },
  {
   "cell_type": "markdown",
   "metadata": {},
   "source": [
    "## Conditionals and Loops\n",
    "\n",
    "Conditionals are particularly useful when we're iterating through a list, and want to perform some operation only on specific components of that list that satisfy a certain condition.\n",
    "\n",
    "**Question:** what will the output of the following code be?"
   ]
  },
  {
   "cell_type": "code",
   "execution_count": 25,
   "metadata": {},
   "outputs": [
    {
     "name": "stdout",
     "output_type": "stream",
     "text": [
      "105 is greater than 100.\n",
      "110 is greater than 100.\n"
     ]
    }
   ],
   "source": [
    "numbers = [12, 20, 43, 88, 97, 100, 105, 110]\n",
    "\n",
    "for number in numbers:\n",
    "    if number > 100:\n",
    "        print(number, 'is greater than 100.')"
   ]
  },
  {
   "cell_type": "markdown",
   "metadata": {},
   "source": [
    "## Conditionals: Else-statements\n",
    "\n",
    "Else-statements supplement if-statements. They allow us to specify an alternative block of code to run if the if-statement's conditional evaluates to `False`.\n",
    "\n",
    "**Question:** What is the difference between the following cell and the previous if statement. How will that affect the output?"
   ]
  },
  {
   "cell_type": "code",
   "execution_count": 27,
   "metadata": {},
   "outputs": [
    {
     "name": "stdout",
     "output_type": "stream",
     "text": [
      "12 is less than or equal to 100.\n",
      "20 is less than or equal to 100.\n",
      "43 is less than or equal to 100.\n",
      "88 is less than or equal to 100.\n",
      "97 is less than or equal to 100.\n",
      "100 is less than or equal to 100.\n",
      "105 is greater than 100.\n",
      "110 is greater than 100.\n"
     ]
    }
   ],
   "source": [
    "numbers = [12, 20, 43, 88, 97, 100, 105, 110]\n",
    "\n",
    "for number in numbers:\n",
    "    if number > 100:\n",
    "        print(number, 'is greater than 100.')\n",
    "    else:\n",
    "        print(number, 'is less than or equal to 100.')"
   ]
  },
  {
   "cell_type": "markdown",
   "metadata": {},
   "source": [
    "## Conditionals: Else-if Statements\n",
    "\n",
    "We may want to check several conditionals at the same time. Else-if (Elif-) statements allow us to specify as many conditional checks as we'd like in the same block.\n",
    "\n",
    "Elif-statements must follow an if-statement. They only are checked if the if-statement fails. Then, each elif-statement is checked, with their corresponding bodies run when the conditional evaluates to `True`.\n",
    "\n",
    "An else statement at the end can act as a \"catch all\", when the if statement and all following else-if statements fail.\n",
    "\n",
    "In Python, else if statements are indicated by the `elif` keyword. Consider the following conditional cell."
   ]
  },
  {
   "cell_type": "code",
   "execution_count": 29,
   "metadata": {},
   "outputs": [
    {
     "name": "stdout",
     "output_type": "stream",
     "text": [
      "12 is less than or equal to 25.\n",
      "20 is less than or equal to 25.\n",
      "43 is greater than 25.\n",
      "88 is greater than 50.\n",
      "97 is greater than 50.\n",
      "100 is greater than 50.\n",
      "105 is greater than 100.\n",
      "110 is greater than 100.\n"
     ]
    }
   ],
   "source": [
    "numbers = [12, 20, 43, 88, 97, 100, 105, 110]\n",
    "\n",
    "for number in numbers:\n",
    "    if number > 100:\n",
    "        print(number, 'is greater than 100.')\n",
    "    elif number > 50:\n",
    "        print(number, 'is greater than 50.')\n",
    "    elif number > 25:\n",
    "        print(number, 'is greater than 25.')\n",
    "    else:\n",
    "        print(number, 'is less than or equal to 25.')"
   ]
  },
  {
   "cell_type": "markdown",
   "metadata": {},
   "source": [
    "## Challenge 2: Conditionals Practice\n",
    "\n",
    "The `scores` list contains numeric grades that we'd like to assign letter grades to.\n",
    "\n",
    "Run the code. Does the result match your expectations? If not, why?\n",
    "\n",
    "Consider:\n",
    "1. How many 'A' grades do you expect based on the input? How many are in the output?\n",
    "2. Are there multiple outputs per score? \n",
    "3. Are the scores assigned the correct letter grades?"
   ]
  },
  {
   "cell_type": "code",
   "execution_count": 37,
   "metadata": {},
   "outputs": [
    {
     "name": "stdout",
     "output_type": "stream",
     "text": [
      "85 is an B.\n",
      "99 is a A.\n",
      "77 is a C.\n",
      "68 is a D.\n"
     ]
    }
   ],
   "source": [
    "scores = [85, 99, 77,68]\n",
    "\n",
    "for score in scores:\n",
    "    if score >= 90:\n",
    "        print(score, 'is a A.')\n",
    "    elif score >= 80:\n",
    "        print(score, 'is an B.')\n",
    "    elif score >= 77:\n",
    "        print(score, 'is a C.')\n",
    "    else:\n",
    "        print(score, 'is a D.')\n",
    "        "
   ]
  },
  {
   "cell_type": "markdown",
   "metadata": {},
   "source": [
    "## Challenge 3: Conditionals and Aggregation\n",
    "Below, we've created a list of US Presidents. Create a a new list containing all Presidents whose first name starts with the letter J. How many presidents are on this list?\n",
    "\n",
    "**Hint:** The `.split()` string function will be useful for this. Also, remember that strings are indexed: you can access any character of the string using bracket notation!"
   ]
  },
  {
   "cell_type": "code",
   "execution_count": 39,
   "metadata": {},
   "outputs": [
    {
     "name": "stdout",
     "output_type": "stream",
     "text": [
      "['John Adams', 'James Madison', 'James Monroe', 'John Quincy Adams', 'John Tyler', 'James K. Polk', 'James Buchanan', 'James A. Garfield', 'John F. Kennedy', 'Jimmy Carter', 'Joe Biden']\n",
      "Number of presidents whose first name starts with 'J': 11\n"
     ]
    }
   ],
   "source": [
    "presidents = [\n",
    "    \"George Washington\",\n",
    "    \"John Adams\",\n",
    "    \"Thomas Jefferson\",\n",
    "    \"James Madison\",\n",
    "    \"James Monroe\",\n",
    "    \"John Quincy Adams\",\n",
    "    \"Andrew Jackson\",\n",
    "    \"Martin Van Buren\",\n",
    "    \"William Henry Harrison\",\n",
    "    \"John Tyler\",\n",
    "    \"James K. Polk\",\n",
    "    \"Zachary Taylor\",\n",
    "    \"Millard Fillmore\",\n",
    "    \"Franklin Pierce\",\n",
    "    \"James Buchanan\",\n",
    "    \"Abraham Lincoln\",\n",
    "    \"Andrew Johnson\",\n",
    "    \"Ulysses S. Grant\",\n",
    "    \"Rutherford B. Hayes\",\n",
    "    \"James A. Garfield\",\n",
    "    \"Chester A. Arthur\",\n",
    "    \"Grover Cleveland\",\n",
    "    \"Benjamin Harrison\",\n",
    "    \"Grover Cleveland\",\n",
    "    \"William McKinley\",\n",
    "    \"Theodore Roosevelt\",\n",
    "    \"William Howard Taft\",\n",
    "    \"Woodrow Wilson\",\n",
    "    \"Warren G. Harding\",\n",
    "    \"Calvin Coolidge\",\n",
    "    \"Herbert Hoover\",\n",
    "    \"Franklin D. Roosevelt\",\n",
    "    \"Harry S. Truman\",\n",
    "    \"Dwight D. Eisenhower\",\n",
    "    \"John F. Kennedy\",\n",
    "    \"Lyndon B. Johnson\",\n",
    "    \"Richard Nixon\",\n",
    "    \"Gerald Ford\",\n",
    "    \"Jimmy Carter\",\n",
    "    \"Ronald Reagan\",\n",
    "    \"George H. W. Bush\",\n",
    "    \"Bill Clinton\",\n",
    "    \"George W. Bush\",\n",
    "    \"Barack Obama\",\n",
    "    \"Donald Trump\",\n",
    "    \"Joe Biden\"\n",
    "]\n",
    "\n",
    "# Create a new list for Presidents whose first name starts with 'J'\n",
    "j_presidents = [president for president in presidents if president.split()[0].startswith('J')]\n",
    "\n",
    "# Print the list and the count\n",
    "print(j_presidents)\n",
    "print(f\"Number of presidents whose first name starts with 'J': {len(j_presidents)}\")\n"
   ]
  },
  {
   "cell_type": "markdown",
   "metadata": {},
   "source": [
    "## Challenge 4: Control a Turtle with Booleans and Conditionals\n",
    "\n",
    "Let's give ourselves the ability to control our turtle from user input! We'll start simple and make it more complex as we go.\n",
    "\n",
    "In this first cell, create three separate variables with values that are either \"left\" or \"right\". Then, have your turtle move some amount and turn 90 degrees in alignment with your instructions."
   ]
  },
  {
   "cell_type": "code",
   "execution_count": null,
   "metadata": {},
   "outputs": [],
   "source": [
    "from turtle import Turtle, Screen\n",
    "\n",
    "# Setup screen\n",
    "wn = Screen()\n",
    "wn.bgcolor(\"magenta\")\n",
    "wn.title(\"Turtle Conditionals\")\n",
    "\n",
    "t = Turtle()\n",
    "t.speed(1)  # Set the speed of the turtle\n",
    "\n",
    "# Booleans to control the turtle\n",
    "draw_square = True\n",
    "draw_triangle = True\n",
    "draw_circle = True\n",
    "\n",
    "# Drawing based on conditionals\n",
    "if draw_square:\n",
    "    # Draw a square\n",
    "    for _ in range(4):\n",
    "        t.forward(200)\n",
    "        t.right(90)\n",
    "\n",
    "if draw_triangle:\n",
    "    # Move turtle to a new position for the triangle\n",
    "    t.penup()\n",
    "    t.goto(-150, 0)\n",
    "    t.pendown()\n",
    "\n",
    "    # Draw a triangle\n",
    "    for _ in range(3):\n",
    "        t.forward(150)\n",
    "        t.left(120)\n",
    "\n",
    "if draw_circle:\n",
    "    # Move turtle to a new position for the circle\n",
    "    t.penup()\n",
    "    t.goto(150, 0)\n",
    "    t.pendown()\n",
    "\n",
    "    # Draw a circle\n",
    "    t.circle(150)\n",
    "\n",
    "wn.exitonclick()\n"
   ]
  },
  {
   "cell_type": "markdown",
   "metadata": {},
   "source": [
    "Now, let's use a __for loop__ to allow us to give as many instructions as we want!"
   ]
  },
  {
   "cell_type": "code",
   "execution_count": null,
   "metadata": {},
   "outputs": [],
   "source": []
  },
  {
   "cell_type": "markdown",
   "metadata": {},
   "source": [
    "Finally, let's use a __while loop__ and prompt for instructions."
   ]
  },
  {
   "cell_type": "code",
   "execution_count": null,
   "metadata": {},
   "outputs": [],
   "source": [
    "from turtle import Turtle, Screen\n",
    "\n",
    "# Reminder, your turtle will need the commands below. \n",
    "# t.forward(x)\n",
    "# t.left(x) or t.right(x)\n",
    "\n",
    "wn = Screen()\n",
    "wn.bgcolor(\"white\")\n",
    "wn.title(\"Turtle Conditionals - While Loop\")\n",
    "\n",
    "t = Turtle()\n",
    "\n",
    "while True:\n",
    "    inp = input(\"What would you like your turtle to do?\")\n",
    "    \n",
    "    # YOUR CODE HERE\n",
    "    pass\n",
    "\n",
    "\n",
    "\n",
    "wn.exitonclick()"
   ]
  },
  {
   "cell_type": "code",
   "execution_count": null,
   "metadata": {},
   "outputs": [],
   "source": []
  },
  {
   "cell_type": "code",
   "execution_count": null,
   "metadata": {},
   "outputs": [],
   "source": []
  }
 ],
 "metadata": {
  "kernelspec": {
   "display_name": "Python 3 (ipykernel)",
   "language": "python",
   "name": "python3"
  },
  "language_info": {
   "codemirror_mode": {
    "name": "ipython",
    "version": 3
   },
   "file_extension": ".py",
   "mimetype": "text/x-python",
   "name": "python",
   "nbconvert_exporter": "python",
   "pygments_lexer": "ipython3",
   "version": "3.12.4"
  }
 },
 "nbformat": 4,
 "nbformat_minor": 4
}
