{
 "cells": [
  {
   "attachments": {},
   "cell_type": "markdown",
   "metadata": {},
   "source": [
    "# Python Data Structures: Dictionaries and Data Frames\n",
    "\n",
    "This lesson was remixed from the lessons at: https://github.com/dlab-berkeley/Python-Fundamentals under the `Creative Commons Attribution-NonCommercial 4.0 International Public License` License\n",
    "\n",
    "**Learning Objectives**\n",
    "* Introduce dictionaries, and data frames.\n",
    "* Practice interacting with and manipulating these data structures.\n",
    "\n",
    "Dictionaries and DataFrames are two other key types of data structure. We will cover each of these in the sections below.\n"
   ]
  },
  {
   "attachments": {},
   "cell_type": "markdown",
   "metadata": {},
   "source": [
    "## Dictionaries: Key-Value Structures\n",
    "\n",
    "Dictionaries are organized on the principle of key-value pairs. The **keys** can be used to access the **values**. They're most useful when you have unordered data organized in pairs. This occurs, for example, in storing metadata (data describing other data).\n",
    "\n",
    "Keys can be ints, floats, or strings, and are unordered. Values, however, can be any data type.\n",
    "\n",
    "Dictionaries are specified in Python using curly braces, with colons separating keys and values. \n",
    "\n",
    "Let's take a look at an example dictionary:"
   ]
  },
  {
   "cell_type": "code",
   "execution_count": 31,
   "metadata": {},
   "outputs": [
    {
     "data": {
      "text/plain": [
       "1935"
      ]
     },
     "execution_count": 31,
     "metadata": {},
     "output_type": "execute_result"
    }
   ],
   "source": [
    "example_dict = {\n",
    "    \"name\": \"Forough Farrokhzad\",\n",
    "    \"year of birth\": 1935,\n",
    "    \"year of death\": 1967,\n",
    "    \"place of birth\": \"Iran\",\n",
    "    \"language\": \"Persian\"}\n",
    "\n",
    "example_dict['year of birth']"
   ]
  },
  {
   "attachments": {},
   "cell_type": "markdown",
   "metadata": {},
   "source": [
    "Like lists, dictionaries have their own methods. One of them is the `keys()` method. What is the type of the output of `.keys()`?"
   ]
  },
  {
   "cell_type": "code",
   "execution_count": 33,
   "metadata": {},
   "outputs": [
    {
     "name": "stdout",
     "output_type": "stream",
     "text": [
      "dict_keys(['name', 'year of birth', 'year of death', 'place of birth', 'language'])\n"
     ]
    },
    {
     "data": {
      "text/plain": [
       "dict_keys"
      ]
     },
     "execution_count": 33,
     "metadata": {},
     "output_type": "execute_result"
    }
   ],
   "source": [
    "print(example_dict.keys())\n",
    "type(example_dict.keys())"
   ]
  },
  {
   "attachments": {},
   "cell_type": "markdown",
   "metadata": {},
   "source": [
    "`dict_keys` is a type that we haven't encountered before, so it will be hard to work with this type directly. However, recall that we can use type conversion to change the type of a variable. We can **cast** (or change the type of) the dictionary keys to a list, which is a type that we are more familiar with:"
   ]
  },
  {
   "cell_type": "code",
   "execution_count": 35,
   "metadata": {},
   "outputs": [
    {
     "data": {
      "text/plain": [
       "['name', 'year of birth', 'year of death', 'place of birth', 'language']"
      ]
     },
     "execution_count": 35,
     "metadata": {},
     "output_type": "execute_result"
    }
   ],
   "source": [
    "list(example_dict.keys())"
   ]
  },
  {
   "attachments": {},
   "cell_type": "markdown",
   "metadata": {},
   "source": [
    "## Challenge 1: Creating a Dictionary\n",
    "\n",
    "Create a dictionary `fruits` using the following lists as *values*. Choose an appropriate string for each of the *keys* of the dictionary. Print the keys in the dictionary."
   ]
  },
  {
   "cell_type": "code",
   "execution_count": 37,
   "metadata": {},
   "outputs": [
    {
     "name": "stdout",
     "output_type": "stream",
     "text": [
      "dict_keys(['fruit', 'length', 'color'])\n"
     ]
    }
   ],
   "source": [
    "# Provided lists\n",
    "fruit = ['apple', 'orange', 'mango']\n",
    "length = [3.2, 2.1, 3.1]\n",
    "color = ['red', 'orange', 'yellow']\n",
    "\n",
    "# Create the dictionary\n",
    "fruits = {\n",
    "    'fruit': fruit,\n",
    "    'length': length,\n",
    "    'color': color\n",
    "}\n",
    "\n",
    "# Print the keys in the dictionary\n",
    "print(fruits.keys())\n",
    "\n"
   ]
  },
  {
   "attachments": {},
   "cell_type": "markdown",
   "metadata": {},
   "source": [
    "Dictionaries are useful for hierarchical storage of data (and can even be nested just like lists!). They are also often used to initialize data frames, a useful data structure for tabular data, and essential for data scientists."
   ]
  },
  {
   "attachments": {},
   "cell_type": "markdown",
   "metadata": {},
   "source": [
    "## Data Frames\n",
    "\n",
    "A common data structure you've likely already encountered is tabular data. Think of an Excel sheet: each column corresponds to a different feature of each datapoint, while rows correspond to different samples.\n",
    "\n",
    "In scientific programming, tabular data is often called a \"data frame\". In Python, there a specialized library called `pandas` which contains an object `DataFrame` that implements this data structure.\n",
    "\n",
    "We're going to explore `pandas` more closely in Part 3, but let's try creating a `DataFrame` object right now. \n",
    "\n",
    "\n",
    "First, we need to create a dictionary:\n",
    "\n",
    "**Note:** You can also substitute in your answer for Challenge 1 below."
   ]
  },
  {
   "cell_type": "code",
   "execution_count": 39,
   "metadata": {},
   "outputs": [
    {
     "name": "stdout",
     "output_type": "stream",
     "text": [
      "{'fruit': ['apple', 'orange', 'mango', 'strawberry', 'salmonberry', 'thimbleberry'], 'size': [3, 2, 3, 1, 1, 1], 'color': ['red', 'orange', 'orange', 'red', 'orange', 'red']}\n"
     ]
    }
   ],
   "source": [
    "fruit = ['apple', 'orange', 'mango', 'strawberry', 'salmonberry', 'thimbleberry']\n",
    "size = [3, 2, 3, 1, 1, 1]\n",
    "color = ['red', 'orange', 'orange', 'red', 'orange', 'red']\n",
    "\n",
    "fruits = {\n",
    "    'fruit': fruit,\n",
    "    'size': size,\n",
    "    'color': color}\n",
    "print(fruits)"
   ]
  },
  {
   "attachments": {},
   "cell_type": "markdown",
   "metadata": {},
   "source": [
    "Next, we import the `pandas` **library** and pass in the dictionary to the `pd.DataFrame()` function, storing the result in a variable called `df`."
   ]
  },
  {
   "cell_type": "code",
   "execution_count": 41,
   "metadata": {},
   "outputs": [
    {
     "data": {
      "text/html": [
       "<div>\n",
       "<style scoped>\n",
       "    .dataframe tbody tr th:only-of-type {\n",
       "        vertical-align: middle;\n",
       "    }\n",
       "\n",
       "    .dataframe tbody tr th {\n",
       "        vertical-align: top;\n",
       "    }\n",
       "\n",
       "    .dataframe thead th {\n",
       "        text-align: right;\n",
       "    }\n",
       "</style>\n",
       "<table border=\"1\" class=\"dataframe\">\n",
       "  <thead>\n",
       "    <tr style=\"text-align: right;\">\n",
       "      <th></th>\n",
       "      <th>fruit</th>\n",
       "      <th>size</th>\n",
       "      <th>color</th>\n",
       "    </tr>\n",
       "  </thead>\n",
       "  <tbody>\n",
       "    <tr>\n",
       "      <th>0</th>\n",
       "      <td>apple</td>\n",
       "      <td>3</td>\n",
       "      <td>red</td>\n",
       "    </tr>\n",
       "    <tr>\n",
       "      <th>1</th>\n",
       "      <td>orange</td>\n",
       "      <td>2</td>\n",
       "      <td>orange</td>\n",
       "    </tr>\n",
       "    <tr>\n",
       "      <th>2</th>\n",
       "      <td>mango</td>\n",
       "      <td>3</td>\n",
       "      <td>orange</td>\n",
       "    </tr>\n",
       "    <tr>\n",
       "      <th>3</th>\n",
       "      <td>strawberry</td>\n",
       "      <td>1</td>\n",
       "      <td>red</td>\n",
       "    </tr>\n",
       "    <tr>\n",
       "      <th>4</th>\n",
       "      <td>salmonberry</td>\n",
       "      <td>1</td>\n",
       "      <td>orange</td>\n",
       "    </tr>\n",
       "    <tr>\n",
       "      <th>5</th>\n",
       "      <td>thimbleberry</td>\n",
       "      <td>1</td>\n",
       "      <td>red</td>\n",
       "    </tr>\n",
       "  </tbody>\n",
       "</table>\n",
       "</div>"
      ],
      "text/plain": [
       "          fruit  size   color\n",
       "0         apple     3     red\n",
       "1        orange     2  orange\n",
       "2         mango     3  orange\n",
       "3    strawberry     1     red\n",
       "4   salmonberry     1  orange\n",
       "5  thimbleberry     1     red"
      ]
     },
     "execution_count": 41,
     "metadata": {},
     "output_type": "execute_result"
    }
   ],
   "source": [
    "import pandas as pd\n",
    "\n",
    "df = pd.DataFrame(fruits)\n",
    "df"
   ]
  },
  {
   "attachments": {},
   "cell_type": "markdown",
   "metadata": {},
   "source": [
    "The keys became column names and the values became cells in the `DataFrame`. In addition, there is an **index** on the left that keeps track of the row.\n",
    "\n",
    "Objects can also have **attributes**, or variables associated with the data type. We can get the number of columns and rows with `df.shape`, an attribute of the dataframe. \n",
    "\n",
    "**Question:** How many rows and columns does this dataframe have? "
   ]
  },
  {
   "cell_type": "code",
   "execution_count": 15,
   "metadata": {},
   "outputs": [
    {
     "data": {
      "text/plain": [
       "(6, 3)"
      ]
     },
     "execution_count": 15,
     "metadata": {},
     "output_type": "execute_result"
    }
   ],
   "source": [
    "df.shape"
   ]
  },
  {
   "attachments": {},
   "cell_type": "markdown",
   "metadata": {},
   "source": [
    "## Challenge 2: Initializing a DataFrame\n",
    "\n",
    "The following code gives an error. Why does it have an error? What are some ways to fix this?"
   ]
  },
  {
   "cell_type": "code",
   "execution_count": 61,
   "metadata": {},
   "outputs": [
    {
     "name": "stdout",
     "output_type": "stream",
     "text": [
      "    fruit  size   color\n",
      "0   apple   3.2     red\n",
      "1  orange   2.1  orange\n",
      "2    None   3.1  yellow\n"
     ]
    }
   ],
   "source": [
    "fruit = ['apple', 'orange', None] #2 things\n",
    "length = [3.2, 2.1, 3.1] #3 things\n",
    "color = ['red', 'orange', 'yellow'] #3 things\n",
    "\n",
    "fruit_dict = {\n",
    "    'fruit': fruit,\n",
    "    'size': length,\n",
    "    'color': color}\n",
    "\n",
    "df_fruit = pd.DataFrame(fruit_dict)\n",
    "print(df_fruit)\n"
   ]
  },
  {
   "attachments": {},
   "cell_type": "markdown",
   "metadata": {},
   "source": [
    "## Working with DataFrames\n",
    "\n",
    "Pandas has hundreds of useful ways for us to work with DataFrames. We will cover a couple of general topics here and in Part 3, but for more on pandas, consider the Python Data Wrangling workshop. \n",
    "\n",
    "\n",
    "We can choose a single column by selecting the name of that column. `pandas` calls this a `pd.Series` object. The act of obtaining a particular subset of a data frame is often referred to as **slicing**. This uses bracket notation to select part of the data.\n",
    "\n",
    "Check the type of the slice below:"
   ]
  },
  {
   "cell_type": "code",
   "execution_count": 57,
   "metadata": {},
   "outputs": [
    {
     "data": {
      "text/plain": [
       "0    3\n",
       "1    2\n",
       "2    3\n",
       "3    1\n",
       "4    1\n",
       "5    1\n",
       "Name: size, dtype: int64"
      ]
     },
     "execution_count": 57,
     "metadata": {},
     "output_type": "execute_result"
    }
   ],
   "source": [
    "# Bracket notation to choose a column\n",
    "df['size']"
   ]
  },
  {
   "attachments": {},
   "cell_type": "markdown",
   "metadata": {},
   "source": [
    "`DataFrame` objects also have methods, including those for [merging](https://pandas.pydata.org/docs/reference/api/pandas.DataFrame.merge.html?highlight=merge#pandas.DataFrame.merge), [aggregation](https://pandas.pydata.org/docs/reference/api/pandas.DataFrame.groupby.html), [nulls](https://pandas.pydata.org/docs/reference/api/pandas.DataFrame.groupby.html), and others. Many of these functions operate on a single column of the DataFrame. For example, we can identify the number of unique values in each column by using `.nunique()`, and what those unique values are by using `.unique()`:"
   ]
  },
  {
   "cell_type": "code",
   "execution_count": 59,
   "metadata": {},
   "outputs": [
    {
     "name": "stdout",
     "output_type": "stream",
     "text": [
      "3\n",
      "[3 2 1]\n"
     ]
    }
   ],
   "source": [
    "#number of unique colors in the df\n",
    "print(df['size'].nunique())\n",
    "\n",
    "\n",
    "#unique colors in the df\n",
    "print(df['size'].unique())"
   ]
  },
  {
   "attachments": {},
   "cell_type": "markdown",
   "metadata": {},
   "source": [
    "## Challenge 3: `value_counts()`\n",
    "\n",
    "There is another pandas function `.value_counts()` which can be used to help organize the information provided by `unique()`. Read the [documentation](https://pandas.pydata.org/docs/reference/api/pandas.Series.value_counts.html) and apply `value_counts()` to the `df` variable. How many 'red' and 'orange' fruits are in the DataFrame?"
   ]
  },
  {
   "cell_type": "code",
   "execution_count": 23,
   "metadata": {},
   "outputs": [
    {
     "name": "stdout",
     "output_type": "stream",
     "text": [
      "color\n",
      "red       1\n",
      "orange    1\n",
      "yellow    1\n",
      "Name: count, dtype: int64\n"
     ]
    }
   ],
   "source": [
    "## YOUR CODE HERE.\n",
    "import pandas as pd\n",
    "\n",
    "# Provided lists\n",
    "fruit = ['apple', 'orange', 'mango']\n",
    "length = [3.2, 2.1, 3.1]\n",
    "color = ['red', 'orange', 'yellow']\n",
    "\n",
    "# Create the dictionary\n",
    "fruit_dict = {\n",
    "    'fruit': fruit,\n",
    "    'length': length,\n",
    "    'color': color\n",
    "}\n",
    "\n",
    "# Create DataFrame\n",
    "df_fruit = pd.DataFrame(fruit_dict)\n",
    "\n",
    "# Use value_counts() on the 'color' column\n",
    "color_counts = df_fruit['color'].value_counts()\n",
    "\n",
    "print(color_counts)\n"
   ]
  },
  {
   "cell_type": "code",
   "execution_count": null,
   "metadata": {},
   "outputs": [],
   "source": []
  }
 ],
 "metadata": {
  "kernelspec": {
   "display_name": "Python 3 (ipykernel)",
   "language": "python",
   "name": "python3"
  },
  "language_info": {
   "codemirror_mode": {
    "name": "ipython",
    "version": 3
   },
   "file_extension": ".py",
   "mimetype": "text/x-python",
   "name": "python",
   "nbconvert_exporter": "python",
   "pygments_lexer": "ipython3",
   "version": "3.12.4"
  }
 },
 "nbformat": 4,
 "nbformat_minor": 4
}
