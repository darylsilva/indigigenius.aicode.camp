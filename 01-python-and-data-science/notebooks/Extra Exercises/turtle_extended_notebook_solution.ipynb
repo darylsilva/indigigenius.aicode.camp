{
 "cells": [
  {
   "cell_type": "code",
   "execution_count": null,
   "id": "10ba7514-e6b0-428e-9815-855194e0a253",
   "metadata": {},
   "outputs": [],
   "source": [
    "import turtle\n",
    "\n",
    "# now let's take a look at the parameters used for the turtle.Turtle class\n",
    "turtle.Turtle?"
   ]
  },
  {
   "cell_type": "markdown",
   "id": "1656e589-5239-4432-b598-79bb2d3ad8ac",
   "metadata": {},
   "source": [
    "We can see that the parameters to create a turtle as we have been using it are:\n",
    "1. shape='classic'\n",
    "2. undobuffersize=1000\n",
    "3. visible=True\n",
    "\n",
    "To extend the class, we will also need to pass in `self` as the first parameter."
   ]
  },
  {
   "cell_type": "code",
   "execution_count": 1,
   "id": "ff398241-b775-4fdb-b637-a4683b8445ee",
   "metadata": {},
   "outputs": [
    {
     "ename": "NameError",
     "evalue": "name 'turtle' is not defined",
     "output_type": "error",
     "traceback": [
      "\u001b[1;31m---------------------------------------------------------------------------\u001b[0m",
      "\u001b[1;31mNameError\u001b[0m                                 Traceback (most recent call last)",
      "Cell \u001b[1;32mIn[1], line 1\u001b[0m\n\u001b[1;32m----> 1\u001b[0m \u001b[38;5;28;01mclass\u001b[39;00m \u001b[38;5;21;01mTurtle_Extended\u001b[39;00m(turtle\u001b[38;5;241m.\u001b[39mTurtle):\n\u001b[0;32m      2\u001b[0m     \u001b[38;5;28;01mdef\u001b[39;00m \u001b[38;5;21m__init__\u001b[39m(\u001b[38;5;28mself\u001b[39m, shape\u001b[38;5;241m=\u001b[39m\u001b[38;5;124m'\u001b[39m\u001b[38;5;124mclassic\u001b[39m\u001b[38;5;124m'\u001b[39m, undobuffersize\u001b[38;5;241m=\u001b[39m\u001b[38;5;241m1000\u001b[39m, visible\u001b[38;5;241m=\u001b[39m\u001b[38;5;28;01mTrue\u001b[39;00m):\n\u001b[0;32m      3\u001b[0m         \u001b[38;5;28msuper\u001b[39m()\u001b[38;5;241m.\u001b[39m\u001b[38;5;21m__init__\u001b[39m(shape\u001b[38;5;241m=\u001b[39mshape, undobuffersize\u001b[38;5;241m=\u001b[39mundobuffersize, visible\u001b[38;5;241m=\u001b[39mvisible)\n",
      "\u001b[1;31mNameError\u001b[0m: name 'turtle' is not defined"
     ]
    }
   ],
   "source": [
    "class Turtle_Extended(turtle.Turtle):\n",
    "    def __init__(self, shape='classic', undobuffersize=1000, visible=True):\n",
    "        super().__init__(shape=shape, undobuffersize=undobuffersize, visible=visible)\n",
    "\n",
    "    def square(self, center_x=0, center_y=0, side_length=20):\n",
    "        self.penup()\n",
    "        # go to the top left corner of the square I want to draw\n",
    "        top_left_x = center_x - side_length/2 # calculate how far left from the center I need to be (negative x)\n",
    "        top_left_y = center_y + side_length/2 # calculate how far up from the center I need to be (positive y)\n",
    "        self.setposition(top_left_x, top_left_y) # go to that top left corner spot\n",
    "        # go to the top left corner of the square, split the length in half to get there, you're in the center now\n",
    "    \n",
    "        # now, face east (0 = east, 90 = north, 180 = west, 270 = south)\n",
    "        self.setheading(0)\n",
    "        # I'm where I want to be in the top left corner of the square I want to draw and facing east\n",
    "        # put the pen down now and draw my square\n",
    "        self.pendown()\n",
    "        for side in range(4):\n",
    "            self.forward(side_length)\n",
    "            self.right(90)\n",
    "        \n",
    "        # put the pen up\n",
    "        self.penup()\n",
    "\n",
    "window = turtle.Screen()\n",
    "window.setup(width=800, height=800)\n",
    "\n",
    "t = Turtle_Extended()\n",
    "\n",
    "t.square(-75, 0, 50)\n",
    "t.square(-75, 75, 50)\n",
    "t.square(-75, -75, 50)\n",
    "t.square(0, 0, 50)\n",
    "t.square(0, 75, 50)\n",
    "t.square(0, -75, 50)\n",
    "t.square(75, 0, 50)\n",
    "t.square(75, 75, 50)\n",
    "t.square(75, -75, 50)\n",
    "t.square(0, 0, 250)\n",
    "\n",
    "turtle.mainloop()"
   ]
  },
  {
   "cell_type": "code",
   "execution_count": null,
   "id": "946e1ac0-2731-4d1f-8498-aac88db5e602",
   "metadata": {},
   "outputs": [],
   "source": []
  }
 ],
 "metadata": {
  "kernelspec": {
   "display_name": "Python 3 (ipykernel)",
   "language": "python",
   "name": "python3"
  },
  "language_info": {
   "codemirror_mode": {
    "name": "ipython",
    "version": 3
   },
   "file_extension": ".py",
   "mimetype": "text/x-python",
   "name": "python",
   "nbconvert_exporter": "python",
   "pygments_lexer": "ipython3",
   "version": "3.12.4"
  }
 },
 "nbformat": 4,
 "nbformat_minor": 5
}
