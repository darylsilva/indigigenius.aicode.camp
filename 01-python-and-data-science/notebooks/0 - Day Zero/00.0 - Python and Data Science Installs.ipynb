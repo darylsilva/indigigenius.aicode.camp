{
 "cells": [
  {
   "cell_type": "markdown",
   "metadata": {},
   "source": [
    "# Installations Instructions for the Python and Data Science Unit\n",
    "\n",
    "This notebook contains installation instructions for the first unit of the IndigiGenius AI Code Camp curriculum.\n",
    "\n",
    "Some of the software is used for communication, and other software is used to run the code that will be used in lessons."
   ]
  },
  {
   "cell_type": "markdown",
   "metadata": {},
   "source": [
    "## Communication Tools\n",
    "\n"
   ]
  },
  {
   "cell_type": "markdown",
   "metadata": {},
   "source": [
    "### Discord\n",
    "\n",
    "Download an install Discord at [https://discord.com/](https://discord.com/). You may need to create an account.\n",
    "\n",
    "The link to join the server is: \n",
    "\n",
    "Please rename yourself in the server to be a name we will recognize."
   ]
  },
  {
   "cell_type": "markdown",
   "metadata": {},
   "source": [
    "## Software Tools"
   ]
  },
  {
   "cell_type": "markdown",
   "metadata": {},
   "source": [
    "### Windows Terminal\n",
    "\n",
    "Download `Windows Terminal` from the `Microsoft Store`."
   ]
  },
  {
   "cell_type": "markdown",
   "metadata": {},
   "source": [
    "### Git\n",
    "\n",
    "Download and install `Git` ([https://git-scm.com/](https://git-scm.com/)). This should be automatically displayed on the picture of a screen."
   ]
  },
  {
   "cell_type": "markdown",
   "metadata": {},
   "source": [
    "### GitHub Desktop\n",
    "\n",
    "Download and install `Github Desktop` [https://desktop.github.com/download/](https://desktop.github.com/download/).\n",
    "\n",
    "Once it is installed, login to your github account. If you have not already created a fork of this repository, you should do so and then clone the repository.\n",
    "\n",
    "\n",
    "### INSTRUCTIONS FOR CLONING AND WHERE TO PUT THE REPO & TURNING OFF ONEDRIVE"
   ]
  },
  {
   "cell_type": "markdown",
   "metadata": {},
   "source": [
    "### VS Code\n",
    "\n",
    "Download and install `Visual Studio Code` [https://code.visualstudio.com/](https://code.visualstudio.com/).\n",
    "\n",
    "This software will be useful in dealing with any merge issues with github. VS Code is typically used to write software, however, we will be doing most of our work within Jupyter notebooks and will be contributing to your version of the repository using GitHub Desktop."
   ]
  },
  {
   "cell_type": "markdown",
   "metadata": {},
   "source": [
    "### Anaconda\n",
    "\n",
    "Download and Install Distribution: [Download Now | Anaconda](https://www.anaconda.com/download/success)  \n",
    "**During installation, be sure to check the box to add to PATH in the last install prompt**\n",
    "\n",
    "You may also want to follow the recommended step of using Anaconda’s version of python and not the system\n",
    "\n",
    "Install pandas:\n",
    "    In terminal, with nothing else open:  \n",
    "    `conda install geopandas -c conda-forge`\n"
   ]
  }
 ],
 "metadata": {
  "language_info": {
   "name": "python"
  }
 },
 "nbformat": 4,
 "nbformat_minor": 2
}
