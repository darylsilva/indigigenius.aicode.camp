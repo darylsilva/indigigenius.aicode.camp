{
 "cells": [
  {
   "cell_type": "markdown",
   "id": "2506b73d",
   "metadata": {},
   "source": [
    "# Introduction to Turtle\n",
    "\n",
    "Turtle is a library that allows us to control a cute little turtle and have it draw for us.\n",
    "\n",
    "Please note, we're using a special version of turtle that runs within our jupyter notebooks, so some of the tutorials online won't match up exactly with what's available to us. Specifically, we're missing a lot of functionality, but can still do the basics. If you want to get more out of your turtle, we can help you run turtle outside of these notebooks.\n",
    "\n",
    "Down below, you'll see an example script. You may not understand it yet, but run it and see what happens! Feel free to edit it and mess around with it to get the feel for things.\n",
    "\n",
    "For reference, our canvas is 400x400 pixels."
   ]
  },
  {
   "cell_type": "code",
   "execution_count": null,
   "id": "b3ca08f9",
   "metadata": {},
   "outputs": [],
   "source": [
    "# Try running a turtle script!\n",
    "\n",
    "# This is called an import statement. It allows us to borrow code that someone else wrote!\n",
    "from turtle import Turtle, Screen\n",
    "\n",
    "wn = Screen() # this creates a screen and assigns to the variable wn\n",
    "wn.bgcolor(\"white\") # this makes the background of the screen white\n",
    "wn.title(\"Turtle Test\") # this puts on the wn window\n",
    "\n",
    "t = Turtle() # this creates a turtle and assigns to the variable t\n",
    "t.speed(5) # we want the turtle to move at a speed of 5\n",
    "\n",
    "# this creats a list of colors that we can refer to using the variable colours\n",
    "colours=[\"red\",\"blue\",\"yellow\",\"brown\",\"black\",\"purple\",\"green\"]\n",
    "\n",
    "\n",
    "t.penup(); t.left(90); t.forward(200);t.right(90);t.pendown()\n",
    "for i in range (0,18):\n",
    "    t.pencolor(colours[i%7])\n",
    "    t.right(20)\n",
    "    t.forward(50)\n",
    "\n",
    "t.right(180)\n",
    "t.home()\n",
    "\n",
    "wn.exitonclick()\n"
   ]
  },
  {
   "cell_type": "markdown",
   "id": "879466f8",
   "metadata": {},
   "source": [
    "# Turtle Commands\n",
    "For now, our turtle can do these things! <br>\n",
    "Use these commands (EXCEPT FOR pencolor()) for your first homework.\n",
    "\n",
    "1. t.left(n), t.right(n): Turn the turtle n degrees to the left or to the right\n",
    "2. t.forward(n): Move the turtle n units forward\n",
    "3. t.penup(): Moves following this command will not draw on the screen\n",
    "4. t.pendown(): \"Puts the pen back down\" after a t.penup() command\n",
    "5. t.pencolor(color_string): Changes the pen color to the given color_string\n",
    "6. t.home(): Returns Turtle to the (0, 0) location"
   ]
  }
 ],
 "metadata": {
  "kernelspec": {
   "display_name": "Python 3 (ipykernel)",
   "language": "python",
   "name": "python3"
  },
  "language_info": {
   "codemirror_mode": {
    "name": "ipython",
    "version": 3
   },
   "file_extension": ".py",
   "mimetype": "text/x-python",
   "name": "python",
   "nbconvert_exporter": "python",
   "pygments_lexer": "ipython3",
   "version": "3.11.7"
  }
 },
 "nbformat": 4,
 "nbformat_minor": 5
}
